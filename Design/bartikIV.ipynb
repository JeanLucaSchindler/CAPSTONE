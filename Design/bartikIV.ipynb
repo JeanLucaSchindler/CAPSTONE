{
 "cells": [
  {
   "cell_type": "code",
   "execution_count": 52,
   "id": "6dff08fb",
   "metadata": {},
   "outputs": [],
   "source": [
    "import pandas as pd\n",
    "import matplotlib.pyplot as plt\n",
    "import seaborn as sns\n",
    "import numpy as np"
   ]
  },
  {
   "cell_type": "markdown",
   "id": "d92f4247",
   "metadata": {},
   "source": [
    "Dataset: https://github.com/owid/energy-data?tab=readme-ov-file"
   ]
  },
  {
   "cell_type": "markdown",
   "id": "319199bb",
   "metadata": {},
   "source": [
    "ONLY europe!"
   ]
  },
  {
   "cell_type": "code",
   "execution_count": 53,
   "id": "9e6b739b",
   "metadata": {},
   "outputs": [],
   "source": [
    "energy = pd.read_csv('data/owid-energy-data.csv')"
   ]
  },
  {
   "cell_type": "code",
   "execution_count": 54,
   "id": "14f4ec1f",
   "metadata": {},
   "outputs": [],
   "source": [
    "consumption = ['country', 'year', 'iso_code', 'population', 'gdp',\n",
    " 'wind_consumption',\n",
    " 'solar_consumption',\n",
    " 'renewables_consumption',\n",
    " 'other_renewable_consumption',\n",
    " 'oil_consumption',\n",
    " 'nuclear_consumption',\n",
    " 'low_carbon_consumption',\n",
    " 'hydro_consumption',\n",
    " 'gas_consumption',\n",
    " 'fossil_fuel_consumption',\n",
    " 'coal_consumption',\n",
    " 'biofuel_consumption',]"
   ]
  },
  {
   "cell_type": "code",
   "execution_count": 55,
   "id": "64473ca3",
   "metadata": {},
   "outputs": [],
   "source": [
    "energy = energy[energy['year'] == 2019]"
   ]
  },
  {
   "cell_type": "code",
   "execution_count": 56,
   "id": "a73710ca",
   "metadata": {},
   "outputs": [],
   "source": [
    "# keep only the columns we need\n",
    "energy = energy[consumption]\n",
    "energy.dropna(inplace=True)"
   ]
  },
  {
   "cell_type": "code",
   "execution_count": 57,
   "id": "8ec077cc",
   "metadata": {},
   "outputs": [],
   "source": [
    "share = energy.drop(columns=['country', 'year', 'iso_code', 'population', 'gdp'])\n",
    "share.index = energy['country']\n",
    "share = share.div(share.sum(axis=1), axis=0)"
   ]
  },
  {
   "cell_type": "code",
   "execution_count": 58,
   "id": "e20e4908",
   "metadata": {},
   "outputs": [],
   "source": [
    "mean_shares = share.mean()"
   ]
  },
  {
   "cell_type": "code",
   "execution_count": 59,
   "id": "f0913abe",
   "metadata": {},
   "outputs": [
    {
     "data": {
      "text/plain": [
       "fossil_fuel_consumption        0.366096\n",
       "oil_consumption                0.176918\n",
       "gas_consumption                0.105873\n",
       "low_carbon_consumption         0.097787\n",
       "coal_consumption               0.083306\n",
       "renewables_consumption         0.072233\n",
       "hydro_consumption              0.038412\n",
       "nuclear_consumption            0.025554\n",
       "wind_consumption               0.013771\n",
       "other_renewable_consumption    0.011042\n",
       "solar_consumption              0.004725\n",
       "biofuel_consumption            0.004283\n",
       "dtype: float64"
      ]
     },
     "execution_count": 59,
     "metadata": {},
     "output_type": "execute_result"
    }
   ],
   "source": [
    "mean_shares.sort_values(ascending=False, inplace=True)\n",
    "mean_shares"
   ]
  },
  {
   "cell_type": "code",
   "execution_count": 60,
   "id": "5f3f3746",
   "metadata": {},
   "outputs": [
    {
     "name": "stdout",
     "output_type": "stream",
     "text": [
      "Herfindahl index: 0.201, Effective shocks: 5\n"
     ]
    }
   ],
   "source": [
    "HHI = (mean_shares ** 2).sum()\n",
    "effective_N = 1 / HHI\n",
    "print(f\"Herfindahl index: {HHI:.3f}, Effective shocks: {effective_N:.0f}\")\n"
   ]
  },
  {
   "cell_type": "code",
   "execution_count": 61,
   "id": "13280fb1",
   "metadata": {},
   "outputs": [],
   "source": [
    "share.to_csv('data/shares.csv')"
   ]
  },
  {
   "cell_type": "code",
   "execution_count": 62,
   "id": "75070534",
   "metadata": {},
   "outputs": [],
   "source": [
    "energy_price_shock = {\n",
    "    \"fossil_fuel_consumption\": 0.539,       # +53.9%\n",
    "    \"oil_consumption\": 0.329,               # +32.9%\n",
    "    \"gas_consumption\": 0.934,               # +93.4%\n",
    "    \"coal_consumption\": 1.234,              # +123.4%\n",
    "    \"low_carbon_consumption\": 0.0,          # no traded fuel\n",
    "    \"renewables_consumption\": 0.0,          # no traded fuel\n",
    "    \"hydro_consumption\": 0.0,               # no traded fuel\n",
    "    \"nuclear_consumption\": 0.102,           # +10.2%\n",
    "    \"wind_consumption\": 0.0,                # no traded fuel\n",
    "    \"other_renewable_consumption\": 0.0,     # no traded fuel\n",
    "    \"solar_consumption\": 0.0,               # no traded fuel\n",
    "    \"biofuel_consumption\": 0.0              # fragmented, treated as 0\n",
    "}\n"
   ]
  },
  {
   "cell_type": "code",
   "execution_count": 63,
   "id": "b53ac1f0",
   "metadata": {},
   "outputs": [],
   "source": [
    "# Step 3: Ensure all columns in the price shock dict are in the dataframe\n",
    "common_cols = [col for col in energy_price_shock if col in share.columns]\n",
    "\n",
    "# Step 4: Compute the Bartik IV as the dot product of shares × global shocks\n",
    "share[\"bartik_iv\"] = share[common_cols].dot(pd.Series(energy_price_shock))\n"
   ]
  },
  {
   "cell_type": "code",
   "execution_count": 67,
   "id": "e2bc8017",
   "metadata": {},
   "outputs": [],
   "source": [
    "bartik_iv = share[\"bartik_iv\"]\n",
    "\n",
    "bartik_iv.sort_values(ascending=False)\n",
    "bartik_iv.to_csv('data/bartik_iv.csv')"
   ]
  },
  {
   "cell_type": "code",
   "execution_count": null,
   "id": "48b9d60d",
   "metadata": {},
   "outputs": [],
   "source": []
  }
 ],
 "metadata": {
  "kernelspec": {
   "display_name": "lewagon",
   "language": "python",
   "name": "python3"
  },
  "language_info": {
   "codemirror_mode": {
    "name": "ipython",
    "version": 3
   },
   "file_extension": ".py",
   "mimetype": "text/x-python",
   "name": "python",
   "nbconvert_exporter": "python",
   "pygments_lexer": "ipython3",
   "version": "3.10.6"
  }
 },
 "nbformat": 4,
 "nbformat_minor": 5
}
